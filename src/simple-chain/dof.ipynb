{
 "cells": [
  {
   "cell_type": "markdown",
   "metadata": {},
   "source": [
    "# Degree of Freedom\n",
    "This notebook presents the calculations on the dofs of the mechanism using the Grübler equation. "
   ]
  },
  {
   "cell_type": "code",
   "execution_count": 1,
   "metadata": {},
   "outputs": [],
   "source": [
    "# Dependencies\n",
    "from typing import Literal, List\n",
    "import numpy as np\n"
   ]
  },
  {
   "cell_type": "code",
   "execution_count": 2,
   "metadata": {},
   "outputs": [],
   "source": [
    "def gruebler(d: Literal[3,6], num_links: int, num_joints: int, f_joint_array: np.array):\n",
    "    \"\"\"\n",
    "    Computes the DOF of a mechanism using Grübler's criterion.\n",
    "    \n",
    "    args:\n",
    "        d: 3 for planar, 6 for spatial\n",
    "        num_links: number of links (exluding the ground)\n",
    "        num_joints: number of joints\n",
    "        f_joint_array: array of freedoms of the joints (for revolute and prismatic its 1)\n",
    "    \"\"\"\n",
    "    dof = d*(num_links - num_joints) +  np.sum(f_joint_array)\n",
    "    return dof"
   ]
  },
  {
   "cell_type": "markdown",
   "metadata": {},
   "source": [
    "## Simple open tree structure"
   ]
  },
  {
   "cell_type": "code",
   "execution_count": 3,
   "metadata": {},
   "outputs": [
    {
     "name": "stdout",
     "output_type": "stream",
     "text": [
      "The simple open tree structure has 3 degrees of freedom\n"
     ]
    }
   ],
   "source": [
    "d = 3\n",
    "num_links = 3\n",
    "num_joints = 3\n",
    "f_joint_array = np.array([1,1,1]) # all revolute joints\n",
    "dofs = gruebler(d, num_links, num_joints, f_joint_array)\n",
    "print(f\"The simple open tree structure has {dofs} degrees of freedom\")"
   ]
  },
  {
   "cell_type": "code",
   "execution_count": 5,
   "metadata": {},
   "outputs": [
    {
     "name": "stdout",
     "output_type": "stream",
     "text": [
      "The complex closed chain kinematic structure has 3 degrees of freedom\n"
     ]
    }
   ],
   "source": [
    "d = 3\n",
    "num_links = 7\n",
    "num_joints = 9\n",
    "f_joint_array = np.array([1,1,1,1,1,1,1,1,1]) # all revolute joints\n",
    "dofs = gruebler(d, num_links, num_joints, f_joint_array)\n",
    "print(f\"The complex closed chain kinematic structure has {dofs} degrees of freedom\")"
   ]
  }
 ],
 "metadata": {
  "kernelspec": {
   "display_name": "thesis-env",
   "language": "python",
   "name": "python3"
  },
  "language_info": {
   "codemirror_mode": {
    "name": "ipython",
    "version": 3
   },
   "file_extension": ".py",
   "mimetype": "text/x-python",
   "name": "python",
   "nbconvert_exporter": "python",
   "pygments_lexer": "ipython3",
   "version": "3.12.9"
  }
 },
 "nbformat": 4,
 "nbformat_minor": 4
}
